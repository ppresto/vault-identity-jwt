{
 "cells": [
  {
   "cell_type": "markdown",
   "id": "9a9f5e3f-2ded-431f-8ae2-8c8f788255fd",
   "metadata": {},
   "source": [
    "# Vault PoV - Identity Engine"
   ]
  },
  {
   "cell_type": "markdown",
   "id": "7e6ff65d-e888-464a-badd-c2919db40247",
   "metadata": {},
   "source": [
    "## Authenticate your services with Vault and JWTs\n",
    "\n",
    "You may want your services to be able to talk to each other in an authenticated manner, and even perform some authorization. This is not easy to do and you might have scratched your head a bunch about how to do it. This lab is going to show you how to do something like this using hashicorp’s Vault. At the end of this lab you’ll be able to issue and validate authorization tokens to make sure your services communicate in an authenticated and secure manner."
   ]
  },
  {
   "cell_type": "markdown",
   "id": "55221b6b-f9e6-4612-b7e1-0931127ac934",
   "metadata": {},
   "source": [
    "## What are JWTs ?\n",
    "\n",
    "JWT, or JSON Web Tokens, are tokens that are signed by a central authority that encapsulate authorization information. This [website](https://jwt.io/#debugger) can help debug/decode your tokens.\n",
    "\n",
    "A JWT consists of 3 parts separated by dots \"`.`\".\n",
    "\n",
    "* Header\n",
    "* Payload\n",
    "* Signature\n",
    "\n",
    "A JWT looks like this:\n",
    "`xxx.yyy.zzz`\n",
    "\n",
    "* The \"**header**\" gives you info about:\n",
    "    * the algorithm used,\n",
    "    * the key id used to sign the token and so on.\n",
    "* The \"**payload**\" is the actual encoded auth data that you care about\n",
    "* The \"**signature**\" is used to validate the token."
   ]
  },
  {
   "cell_type": "markdown",
   "id": "16b12d34-a3ba-45fc-a831-7449c9824182",
   "metadata": {},
   "source": [
    "## Setup"
   ]
  },
  {
   "cell_type": "markdown",
   "id": "2f1c1f61-8a5b-43c1-8010-e8f74364aca4",
   "metadata": {},
   "source": [
    "### Start Vault Enterprise (if one does not exist)"
   ]
  },
  {
   "cell_type": "code",
   "execution_count": null,
   "id": "fbf67f5a-b56c-43ed-8f07-7c5b55253a09",
   "metadata": {},
   "outputs": [],
   "source": [
    "docker stop vault\n",
    "docker rm vault\n",
    "docker run --rm -itd \\\n",
    "    --name vault \\\n",
    "    -p 8200:8200 \\\n",
    "    -e 'VAULT_DEV_ROOT_TOKEN_ID=root' \\\n",
    "    -e \"VAULT_ADDR=http://127.0.0.1:8200\" \\\n",
    "    hashicorp/vault-enterprise"
   ]
  },
  {
   "cell_type": "markdown",
   "id": "d65c114c-9e90-46e1-a80d-091308f3be37",
   "metadata": {},
   "source": [
    "Save the unseal key(s) and root token."
   ]
  },
  {
   "cell_type": "code",
   "execution_count": null,
   "id": "b97208d7-8b6a-4d19-9212-46326ab56182",
   "metadata": {},
   "outputs": [],
   "source": [
    "UNSEAL_1=$(docker logs vault | grep \"Unseal Key\" | awk '{print $NF}')\n",
    "VAULT_TOKEN_ROOT=$(docker logs vault | grep \"Root Token\" | awk '{print $NF}')\n",
    "echo Unseal Key: $UNSEAL_1\n",
    "echo Root Token: $VAULT_TOKEN_ROOT"
   ]
  },
  {
   "cell_type": "markdown",
   "id": "d5a793f8-6ada-41a1-a647-6c029164b04d",
   "metadata": {},
   "source": [
    "### Set environment variables\n",
    "\n",
    "Change address and token as appropriate."
   ]
  },
  {
   "cell_type": "code",
   "execution_count": null,
   "id": "be516996-cb5c-4815-807e-9ff893c9969d",
   "metadata": {},
   "outputs": [],
   "source": [
    "export VAULT_ADDR=\"http://127.0.0.1:8200\"\n",
    "export VAULT_TOKEN=\"root\"\n",
    "export VAULT_SKIP_VERIFY=true\n",
    "#VAULT_TLS_SERVER_NAME="
   ]
  },
  {
   "cell_type": "markdown",
   "id": "dd79bff7-63dd-48a4-a38b-a3d3fcb49aec",
   "metadata": {},
   "source": [
    "Set fancy colors for standard output."
   ]
  },
  {
   "cell_type": "code",
   "execution_count": null,
   "id": "7f268353-8918-4c3f-8d63-8265a32e2884",
   "metadata": {},
   "outputs": [],
   "source": [
    "export RED=\"\\e[0;31m\"\n",
    "export YELLOW=\"\\e[0;33m\"\n",
    "export BLDYELLOW=\"\\e[1;33m\"\n",
    "export GREEN=\"\\e[0;32m\"\n",
    "export CYAN=\"\\e[0;36m\"\n",
    "export BLUE=\"\\e[0;34m\"\n",
    "export WHITE=\"\\e[0;37m\"\n",
    "export BLDWHITE=\"\\e[1;37m\"\n",
    "export NC=\"\\e[0m\""
   ]
  },
  {
   "cell_type": "code",
   "execution_count": null,
   "id": "bdadb23b-18e1-4cd0-8337-386182928113",
   "metadata": {},
   "outputs": [],
   "source": [
    "# vault login root\n",
    "# vault version"
   ]
  },
  {
   "cell_type": "markdown",
   "id": "e591dfb4-50b1-4cdb-95c2-cadb1708ac99",
   "metadata": {},
   "source": [
    "### Make sure vault is initialized and unsealed"
   ]
  },
  {
   "cell_type": "code",
   "execution_count": null,
   "id": "1ba1ebbb-d464-4cdb-b5a2-086e951fdda1",
   "metadata": {},
   "outputs": [],
   "source": [
    "vault status"
   ]
  },
  {
   "cell_type": "markdown",
   "id": "4f140915-7b0b-41e9-8240-a241f5b5afa8",
   "metadata": {},
   "source": [
    "### (optional) Create admin/dev namespace"
   ]
  },
  {
   "cell_type": "code",
   "execution_count": null,
   "id": "07f8a5a5-e0e5-46d3-9ad6-7d291578f155",
   "metadata": {},
   "outputs": [],
   "source": [
    "printf \"${GREEN}# Create dev namespace${NC}\\n\"\n",
    "vault namespace create admin\n",
    "\n",
    "printf \"${GREEN}# Create admin/dev namespace${NC}\\n\"\n",
    "export VAULT_NAMESPACE=admin\n",
    "vault namespace create dev\n",
    "\n",
    "printf \"${GREEN}# Manage namespace admin/dev${NC}\\n\"\n",
    "export VAULT_NAMESPACE=admin/dev"
   ]
  },
  {
   "cell_type": "markdown",
   "id": "025e762f-c00c-457e-961f-a5f7e6486f73",
   "metadata": {},
   "source": [
    "**NOTE:** The rest of this deployment will be in the `admin/dev` namespace."
   ]
  },
  {
   "cell_type": "markdown",
   "id": "bdd8f96a-6bf7-49b6-8b97-bf54a56c7eb7",
   "metadata": {},
   "source": [
    "## Enable the userpass auth method"
   ]
  },
  {
   "cell_type": "code",
   "execution_count": null,
   "id": "8d9cc634-e04d-4fbd-9334-4bca730a64a2",
   "metadata": {},
   "outputs": [],
   "source": [
    "vault auth enable userpass || true\n",
    "vault auth list"
   ]
  },
  {
   "cell_type": "markdown",
   "id": "14b1cbd0-17e8-4c64-a2d8-d16df8cedb35",
   "metadata": {},
   "source": [
    "## Write the Ops Team and App Team KV policies (NEEDS EDITING)\n",
    "\n",
    "We will need to create a policy (`ops-team` and `app-team`) to allow the account (that we will create right after) to perform some basic operations on Vault."
   ]
  },
  {
   "cell_type": "code",
   "execution_count": null,
   "id": "d6352acd-6b27-4ab3-b9cb-913422404c0d",
   "metadata": {
    "tags": []
   },
   "outputs": [],
   "source": [
    "printf \"${GREEN}Create policy file for ops.${NC}\\n\"\n",
    "vault policy write ops-team - <<EOF\n",
    "path \"identity/oidc/token/*\" {\n",
    "  capabilities = [\"list\", \"read\", \"create\", \"update\"]\n",
    "}\n",
    "\n",
    "path \"identity/oidc/introspect\" {\n",
    "  capabilities = [\"list\", \"read\", \"create\", \"update\"]\n",
    "}\n",
    "\n",
    "path \"identity/oidc/key/*\" {\n",
    "  capabilities = [\"list\", \"read\", \"create\", \"update\"]\n",
    "}\n",
    "EOF\n",
    "\n",
    "echo\n",
    "printf \"${GREEN}Create policy file for app team.${NC}\\n\"\n",
    "vault policy write app-team - <<EOF\n",
    "path \"identity/oidc/token/*\" {\n",
    "#   capabilities = [\"list\", \"read\", \"create\", \"update\"]\n",
    "  capabilities = [\"read\"]\n",
    "\n",
    "}\n",
    "\n",
    "path \"identity/oidc/introspect\" {\n",
    "#   capabilities = [\"list\", \"read\", \"create\", \"update\"]\n",
    "  capabilities = [\"read\", \"update\"]\n",
    "}\n",
    "EOF"
   ]
  },
  {
   "cell_type": "markdown",
   "id": "6d3e10b3-0cfc-41ee-b699-8789ec6e2f72",
   "metadata": {},
   "source": [
    "You should lock down your policies. This policy is over-permissive."
   ]
  },
  {
   "cell_type": "markdown",
   "id": "7b782b08-2547-496c-aa9d-c101875e6a87",
   "metadata": {},
   "source": [
    "### Confirm policies"
   ]
  },
  {
   "cell_type": "code",
   "execution_count": null,
   "id": "bf7155b3-5dd4-4a58-9097-aad8ea955aa3",
   "metadata": {},
   "outputs": [],
   "source": [
    "printf \"${GREEN}Read ops-team policy.\\n${NC}\"\n",
    "vault policy read ops-team\n",
    "echo\n",
    "printf \"${GREEN}Read app-team policy.\\n${NC}\"\n",
    "vault policy read app-team"
   ]
  },
  {
   "cell_type": "markdown",
   "id": "f869f5f8-1c2c-4f16-b5be-2e764142057b",
   "metadata": {},
   "source": [
    "## Create Userpass users"
   ]
  },
  {
   "cell_type": "code",
   "execution_count": null,
   "id": "c9fd36ef-7758-421a-a97c-54dcbb63e2a2",
   "metadata": {},
   "outputs": [],
   "source": [
    "printf \"${GREEN}Create ops user.\\n${NC}\"\n",
    "vault write auth/userpass/users/ops-1 password=ops-1 policies=ops-team\n",
    "printf \"${GREEN}Create app user.\\n${NC}\"\n",
    "vault write auth/userpass/users/app-1 password=app-1 policies=app-team"
   ]
  },
  {
   "cell_type": "markdown",
   "id": "2fb1eb9d-7ad6-4ae6-93a6-65ac6a9f2fc4",
   "metadata": {},
   "source": [
    "## Create the OIDC issuer - Write the configuration for the Identity Tokens Backend\n",
    "\n",
    "Configure the Identity Tokens Backend for OIDC-compliant identity tokens issued by Vault."
   ]
  },
  {
   "cell_type": "code",
   "execution_count": null,
   "id": "8f3c3c0a-2670-465b-94a6-b093bae71a69",
   "metadata": {},
   "outputs": [],
   "source": [
    "vault write identity/oidc/config issuer=\"${VAULT_ADDR}\""
   ]
  },
  {
   "cell_type": "markdown",
   "id": "4157ecca-64b7-487c-a363-16743a45faa4",
   "metadata": {},
   "source": [
    "`issuer` will be used to populate the `issuer` field of your tokens. If `issuer` is not set, Vault's `api_addr` will be used."
   ]
  },
  {
   "cell_type": "markdown",
   "id": "473faf86-9bc5-40aa-a965-7472edb50837",
   "metadata": {},
   "source": [
    "Read the configuration for Identity Tokens Backend to confirm your settings."
   ]
  },
  {
   "cell_type": "code",
   "execution_count": null,
   "id": "d9240187-0119-4da3-8083-61d0f69f10c8",
   "metadata": {},
   "outputs": [],
   "source": [
    "vault read -format=json identity/oidc/config | jq -r .data"
   ]
  },
  {
   "cell_type": "markdown",
   "id": "6405da78-f976-48f0-a1df-d87cb275c20d",
   "metadata": {},
   "source": [
    "## Create Vault roles\n",
    "\n",
    "Create two `role`'s in Vault, which will map to the apps you want to authenticate against. In this example we will assume that our app is called `role-001` and `role-002`.\n",
    "\n",
    "**NOTE**: ID tokens are **generated** against a role and **signed** against a named key."
   ]
  },
  {
   "cell_type": "markdown",
   "id": "adb15985-04d4-4fee-8492-f3b5b191095b",
   "metadata": {},
   "source": [
    "### Create template for generating JWT tokens."
   ]
  },
  {
   "cell_type": "markdown",
   "id": "ceed0171-29bf-4930-95ce-da11fa80114c",
   "metadata": {},
   "source": [
    "Define claims and scopes in `token_template.json`: https://www.vaultproject.io/docs/secrets/identity#token-contents-and-templates"
   ]
  },
  {
   "cell_type": "code",
   "execution_count": null,
   "id": "d79903a0-ecea-4c24-8a26-52a00b78dea3",
   "metadata": {},
   "outputs": [],
   "source": [
    "mkdir -p config/vault\n",
    "printf \"${GREEN}#--> Create the template to use for generating tokens.${NC}\\n\"\n",
    "cat <<\"EOF\" > config/vault/token_template.json\n",
    "{\n",
    "    \"entity_id\": {{identity.entity.id}},\n",
    "    \"entity_name\": {{identity.entity.name}},\n",
    "    \"groups\": {{identity.entity.groups.names}},\n",
    "    \"metadata\": {{identity.entity.metadata}}\n",
    "}\n",
    "EOF\n",
    "cat config/vault/token_template.json"
   ]
  },
  {
   "cell_type": "code",
   "execution_count": null,
   "id": "ab6f73c0-7198-4724-adeb-faa8dd89533c",
   "metadata": {},
   "outputs": [],
   "source": [
    "vault write identity/oidc/role/role-ops \\\n",
    "    key=\"named-key-ops-1\" ttl=\"12h\" \\\n",
    "    template=@config/vault/token_template.json\n",
    "vault write identity/oidc/role/role-app \\\n",
    "    key=\"named-key-app-1\" ttl=\"12h\" \\\n",
    "    template=@config/vault/token_template.json"
   ]
  },
  {
   "cell_type": "markdown",
   "id": "65fd0d09-cb31-4789-865e-8d385e860dc0",
   "metadata": {},
   "source": [
    "* `template` - The template string to use for generating tokens. This may be in string-ified JSON or base64 format.\n",
    "* `ttl` - TTL of the tokens generated against the role. Can be specified as a number of seconds or as a time string like \"30m\" or \"6h\"."
   ]
  },
  {
   "cell_type": "markdown",
   "id": "fa670022-a49b-45c8-99b4-b3703b1ef919",
   "metadata": {},
   "source": [
    "### Read the Roles"
   ]
  },
  {
   "cell_type": "code",
   "execution_count": null,
   "id": "34dfe1b0-8135-40f4-93a9-ac6a7dfc0570",
   "metadata": {},
   "outputs": [],
   "source": [
    "printf \"${GREEN}Read role - role-ops.\\n${NC}\"\n",
    "vault read identity/oidc/role/role-ops\n",
    "echo\n",
    "printf \"${GREEN}Read role - role-app.\\n${NC}\"\n",
    "vault read identity/oidc/role/role-app"
   ]
  },
  {
   "cell_type": "markdown",
   "id": "ecae208f-4a2c-44f4-8aaa-eeaaa5b6114b",
   "metadata": {},
   "source": [
    "### Get the Role IDs"
   ]
  },
  {
   "cell_type": "code",
   "execution_count": null,
   "id": "b92a3dc3-9403-4f98-b8e5-03d451e1f01a",
   "metadata": {},
   "outputs": [],
   "source": [
    "ROLE_1_CLIENT_ID=$(vault read -format=json identity/oidc/role/role-ops | jq -r .data.client_id)\n",
    "ROLE_2_CLIENT_ID=$(vault read -format=json identity/oidc/role/role-app | jq -r .data.client_id)"
   ]
  },
  {
   "cell_type": "code",
   "execution_count": null,
   "id": "a5550afb-e28c-4a8f-8d15-87d4a77dcc34",
   "metadata": {},
   "outputs": [],
   "source": [
    "#optional\n",
    "echo $ROLE_1_CLIENT_ID\n",
    "echo $ROLE_2_CLIENT_ID"
   ]
  },
  {
   "cell_type": "markdown",
   "id": "7845b5a4-a709-49fe-9cb6-17cceb7a3f49",
   "metadata": {},
   "source": [
    "## Create named keys\n",
    "\n",
    "Create two [named keys](https://www.vaultproject.io/api/secret/identity/tokens.html#create-a-named-key). The associated role uses the key to sign tokens. `allowed_client_ids` define the roles allowed to use the keys."
   ]
  },
  {
   "cell_type": "code",
   "execution_count": null,
   "id": "9256912e-d69a-4b0f-9bc8-a1945c06d303",
   "metadata": {},
   "outputs": [],
   "source": [
    "vault write identity/oidc/key/named-key-ops-1 \\\n",
    "    rotation_period=\"10m\" verification_ttl=\"30m\" allowed_client_ids=$ROLE_1_CLIENT_ID\n",
    "\n",
    "vault write identity/oidc/key/named-key-app-1 \\\n",
    "    rotation_period=\"10m\" verification_ttl=\"30m\" allowed_client_ids=$ROLE_2_CLIENT_ID"
   ]
  },
  {
   "cell_type": "markdown",
   "id": "e83b4718-9b10-4076-b24a-63c936e2d9fd",
   "metadata": {},
   "source": [
    "Now we have keys that will sign our tokens.\n",
    "\n",
    "**NOTE**: In a production environment you will need to have a key per environment (dev/staging/prod and so on) and will need to individually allow client ID (which we talk about later) to be signed by your key."
   ]
  },
  {
   "cell_type": "markdown",
   "id": "b137c6c0-fc84-4e0e-9f25-1ab5488014e5",
   "metadata": {},
   "source": [
    "### Read the named keys\n",
    "\n",
    "Query a named key and returns its configurations."
   ]
  },
  {
   "cell_type": "code",
   "execution_count": null,
   "id": "468c9142-3654-48b3-862c-1ba58f0f79ab",
   "metadata": {},
   "outputs": [],
   "source": [
    "printf \"${GREEN}Query named-key-ops-1.${NC}\\n\"\n",
    "vault read identity/oidc/key/named-key-ops-1\n",
    "echo\n",
    "printf \"${GREEN}Query named-key-app-1.${NC}\\n\"\n",
    "vault read identity/oidc/key/named-key-app-1"
   ]
  },
  {
   "cell_type": "markdown",
   "id": "3bbcdfe2-ec37-445e-976d-b8b5cfa71430",
   "metadata": {},
   "source": [
    "### List All Named Keys\n",
    "\n",
    "List all named keys."
   ]
  },
  {
   "cell_type": "code",
   "execution_count": null,
   "id": "59a901e5-a1ee-43e7-a74f-e5e1b473d379",
   "metadata": {},
   "outputs": [],
   "source": [
    "vault list identity/oidc/key"
   ]
  },
  {
   "cell_type": "markdown",
   "id": "4212e238-9727-4de7-bac5-0b1df7775c54",
   "metadata": {
    "jupyter": {
     "source_hidden": true
    },
    "tags": [],
    "toc-hr-collapsed": true
   },
   "source": [
    "## (optional) AppRole - SKIP FOR NOW - NOT READY YET\n",
    "\n",
    "### Create the AppRole\n",
    "\n",
    "An [AppRole](https://www.vaultproject.io/docs/auth/approle.html) is a Vault authentication backend. You can see it as something similar to a username/password authentication, but intended for services instead of actual human users."
   ]
  },
  {
   "cell_type": "markdown",
   "id": "4e947296-dcf3-46d9-a86f-1ee8d8097e2b",
   "metadata": {
    "jupyter": {
     "source_hidden": true
    },
    "tags": []
   },
   "source": [
    "Enable the approle authentication backend:"
   ]
  },
  {
   "cell_type": "code",
   "execution_count": null,
   "id": "310a0744-30ea-4c8c-a226-d2e2784af5e9",
   "metadata": {
    "jupyter": {
     "source_hidden": true
    },
    "tags": []
   },
   "outputs": [],
   "source": [
    "vault auth enable approle"
   ]
  },
  {
   "cell_type": "markdown",
   "id": "fbce2f78-b2b3-4e7c-adf6-32c94fd9b49b",
   "metadata": {
    "jupyter": {
     "source_hidden": true
    },
    "tags": []
   },
   "source": [
    "Create the actual `approle`, it will be called `demo-approle`:"
   ]
  },
  {
   "cell_type": "code",
   "execution_count": null,
   "id": "b297abb6-819f-4f91-8f18-3a87daa62446",
   "metadata": {
    "jupyter": {
     "source_hidden": true
    },
    "tags": []
   },
   "outputs": [],
   "source": [
    "vault write auth/approle/role/demo-approle role_name=demo-approle policies=readonly\n",
    "vault write auth/approle/role/ops-1 role_name=ops-1 policies=ops-team\n",
    "vault write auth/approle/role/app-1 role_name=app-1 policies=app-team"
   ]
  },
  {
   "cell_type": "markdown",
   "id": "a9ba81ca-2e08-48df-b53a-b77302270921",
   "metadata": {
    "jupyter": {
     "source_hidden": true
    },
    "tags": []
   },
   "source": [
    "Then you will need to get two pieces of information, the `roleid` and the `secretid` for the approle. These are the equivalent of the username and the password to authenticate yourself."
   ]
  },
  {
   "cell_type": "code",
   "execution_count": null,
   "id": "ab2246c7-b3f3-464d-8e09-0220b1c3909f",
   "metadata": {
    "jupyter": {
     "source_hidden": true
    },
    "tags": []
   },
   "outputs": [],
   "source": [
    "ops_secret_id=$(vault write -force -format=json auth/approle/role/ops-1/secret-id | jq -r .data.secret_id)\n",
    "ops_role_id=$(vault read -format=json auth/approle/role/ops-1/role-id | jq -r .data.role_id)\n",
    "echo $ops_role_id $ops_secret_id\n",
    "\n",
    "app_secret_id=$(vault write -force -format=json auth/approle/role/app-1/secret-id | jq -r .data.secret_id)\n",
    "app_role_id=$(vault read -format=json auth/approle/role/app-1/role-id | jq -r .data.role_id)\n",
    "echo $app_role_id $app_secret_id"
   ]
  },
  {
   "cell_type": "markdown",
   "id": "56bef130-9a4f-42f7-b320-b555b4503b40",
   "metadata": {
    "jupyter": {
     "source_hidden": true
    },
    "tags": []
   },
   "source": [
    "Sample Output\n",
    "\n",
    "`ca9f0470-8d1f-4464-2635-25f02b9407d7 f91a7c31-dc06-2b24-20fd-e9f5867c32a8`\n",
    "\n",
    "Your values will be different."
   ]
  },
  {
   "cell_type": "markdown",
   "id": "0e43ce89-641d-4493-a622-0ccfd1c975e4",
   "metadata": {
    "jupyter": {
     "source_hidden": true
    },
    "tags": []
   },
   "source": [
    "### Create the entity and map it to the AppRole\n",
    "\n",
    "Now that we have created the approle, we need to map it to an internal Vault `entity`, you need to do that because several entities can be mapped to various authentication backends, like `userpass` or if you use something like Google or what not. So first, create the `entity` and save it for later:"
   ]
  },
  {
   "cell_type": "code",
   "execution_count": null,
   "id": "6d79fc94-b9a6-48c2-aa31-16d3dbb11c11",
   "metadata": {
    "jupyter": {
     "source_hidden": true
    },
    "tags": []
   },
   "outputs": [],
   "source": [
    "ops_entity_id=$(vault write -format=json identity/entity name=ops | jq .data.id -r)\n",
    "echo $ops_entity_id\n",
    "app_entity_id=$(vault write -format=json identity/entity name=app | jq .data.id -r)\n",
    "echo $app_entity_id"
   ]
  },
  {
   "cell_type": "markdown",
   "id": "397ddf68-61af-41b7-ba3f-118e37f31840",
   "metadata": {
    "jupyter": {
     "source_hidden": true
    },
    "tags": []
   },
   "source": [
    "NOTE: Running this command twice will not work. There is not output after the first time."
   ]
  },
  {
   "cell_type": "markdown",
   "id": "2cb0553a-5e88-43c2-81ca-dac48d091a8c",
   "metadata": {
    "jupyter": {
     "source_hidden": true
    },
    "tags": []
   },
   "source": [
    "You should see something like this:\n",
    "\n",
    "`c957656f-0872-766c-3517-83b787672f84`"
   ]
  },
  {
   "cell_type": "markdown",
   "id": "fbe0fd1f-7504-45a4-97f9-8647b977ebec",
   "metadata": {
    "jupyter": {
     "source_hidden": true
    },
    "tags": []
   },
   "source": [
    "#### Entity Alias\n",
    "\n",
    "Now you finally need to create an `entity alias` to make the link between the `entity` and the `approle` authentication backend (that is tedious I know but bear with me i swear it is worth it). Retrieve the `accessor`, which is the internal Vault reference to your approle authentication backend:"
   ]
  },
  {
   "cell_type": "code",
   "execution_count": null,
   "id": "3ba1daa5-cfad-45f4-986d-ce584066a766",
   "metadata": {
    "jupyter": {
     "source_hidden": true
    },
    "tags": []
   },
   "outputs": [],
   "source": [
    "accessor=$(vault auth list -format=json | grep 'auth_approle' | tr -d \" \" | tr -d , | cut -d \":\" -f 2 | tr -d \\\")\n",
    "echo $accessor\n",
    "vault auth list -format=json | grep 'auth_approle' | tr -d \" \" | tr -d ,"
   ]
  },
  {
   "cell_type": "markdown",
   "id": "06b4d3c2-2de8-44ca-9db9-abb739a0d182",
   "metadata": {
    "jupyter": {
     "source_hidden": true
    },
    "tags": []
   },
   "source": [
    "Sample Output:\n",
    "\n",
    "`auth_approle_91098819`\n",
    "\n",
    "Then, create the alias:"
   ]
  },
  {
   "cell_type": "code",
   "execution_count": null,
   "id": "a665c403-dd0e-499b-a397-dd6cfc45f180",
   "metadata": {
    "jupyter": {
     "source_hidden": true
    },
    "tags": []
   },
   "outputs": [],
   "source": [
    "vault write identity/entity-alias name=ops-1 canonical_id=$ops_entity_id mount_accessor=$accessor\n",
    "vault write identity/entity-alias name=app-1 canonical_id=$app_entity_id mount_accessor=$accessor"
   ]
  },
  {
   "cell_type": "markdown",
   "id": "778f45d7-3bd2-44c9-876e-6b309aa7d4b2",
   "metadata": {
    "jupyter": {
     "source_hidden": true
    },
    "tags": []
   },
   "source": [
    "Sample Output\n",
    "\n",
    "```\n",
    "Key             Value\n",
    "---             -----\n",
    "canonical_id    c957656f-0872-766c-3517-83b787672f84\n",
    "id              a2d067d6-229b-6580-d714-35a01ba62864\n",
    "```\n",
    "\n",
    "Everything is setup now."
   ]
  },
  {
   "cell_type": "markdown",
   "id": "7fe0c13b-b775-4ed9-bc4c-4716b6767292",
   "metadata": {
    "jupyter": {
     "source_hidden": true
    },
    "tags": []
   },
   "source": [
    "### Log in as the AppRole"
   ]
  },
  {
   "cell_type": "code",
   "execution_count": null,
   "id": "76a4fb70-c986-4874-8e54-4c3deb19cee7",
   "metadata": {
    "jupyter": {
     "source_hidden": true
    },
    "tags": []
   },
   "outputs": [],
   "source": [
    "# ops-1_token=$(vault write -format=json auth/approle/login role_id=$role_id secret_id=$secret_id | jq -r .auth.client_token)\n",
    "# export VAULT_TOKEN=$ops-1_token\n",
    "ops_1_token=$(vault write -format=json auth/approle/login role_id=$ops_role_id secret_id=$ops_secret_id | jq -r \".auth.client_token\")\n",
    "export VAULT_TOKEN=$ops_1_token\n",
    "echo $ops_1_token"
   ]
  },
  {
   "cell_type": "markdown",
   "id": "39441a53-1ae6-4a00-899a-03398bd6af9b",
   "metadata": {
    "jupyter": {
     "source_hidden": true
    },
    "tags": []
   },
   "source": [
    "You are now logged into Vault as your approle! Check it by running:"
   ]
  },
  {
   "cell_type": "code",
   "execution_count": null,
   "id": "f13c6082-7e7e-4fba-97f6-f0d2da64c3d0",
   "metadata": {
    "jupyter": {
     "source_hidden": true
    },
    "tags": []
   },
   "outputs": [],
   "source": [
    "vault token lookup"
   ]
  },
  {
   "cell_type": "markdown",
   "id": "d0731b9c-f2fd-4c86-9aa7-2ac4c1bd55ef",
   "metadata": {
    "jupyter": {
     "source_hidden": true
    },
    "tags": []
   },
   "source": [
    "Sample output\n",
    "\n",
    "```\n",
    "Key                 Value\n",
    "---                 -----\n",
    "accessor            Tc6riT70kLnepiW3CC0rEkBj\n",
    "creation_time       1579287446\n",
    "creation_ttl        768h\n",
    "display_name        approle\n",
    "entity_id           f1be740b-8b4f-4369-a019-bc6ef3f8e963\n",
    "expire_time         2020-02-18T18:57:26.707866969Z\n",
    "explicit_max_ttl    0s\n",
    "id                  s.ohsNR1DIo6sVr8gG8hsRsk1Y\n",
    "issue_time          2020-01-17T18:57:26.707866723Z\n",
    "meta                map[role_name:demo-approle]\n",
    "num_uses            0\n",
    "orphan              true\n",
    "path                auth/approle/login\n",
    "policies            [default readonly]\n",
    "renewable           true\n",
    "ttl                 767h58m57s\n",
    "type                service\n",
    "```"
   ]
  },
  {
   "cell_type": "markdown",
   "id": "ad940765-51b4-4301-b677-5d5ed5f7dd2b",
   "metadata": {
    "tags": []
   },
   "source": [
    "## Sign in as the Ops user"
   ]
  },
  {
   "cell_type": "code",
   "execution_count": null,
   "id": "d5cbacaf-934b-4993-98ab-024d8a97cf0e",
   "metadata": {},
   "outputs": [],
   "source": [
    "printf \"${YELLOW}Sign in as ops user and set VAULT_TOKEN.${NC}\\n\"\n",
    "token=$(vault login -format=json -method=userpass username=ops-1 password=ops-1 | jq -r .auth.client_token)\n",
    "export VAULT_TOKEN=$token\n",
    "echo $VAULT_TOKEN"
   ]
  },
  {
   "cell_type": "markdown",
   "id": "24b6ed06-c801-44aa-8ef0-7a088dc9f0ab",
   "metadata": {},
   "source": [
    "You are now logged into Vault as the `ops` user!\n",
    "\n",
    "Confirm your policies and namespace:"
   ]
  },
  {
   "cell_type": "code",
   "execution_count": null,
   "id": "f666a916-afa9-47e7-b135-db04cdfbc1a0",
   "metadata": {},
   "outputs": [],
   "source": [
    "vault token lookup"
   ]
  },
  {
   "cell_type": "markdown",
   "id": "cab91353-a03c-4860-bca6-8ad382fe9c77",
   "metadata": {},
   "source": [
    "## Generate a signed (OIDC) token\n",
    "\n",
    "Generate a signed ID (OIDC) token. `role-001` is the name of the role against which to generate a signed ID token"
   ]
  },
  {
   "cell_type": "code",
   "execution_count": null,
   "id": "61e549e4-c680-4d7f-a62f-46f2b4107114",
   "metadata": {},
   "outputs": [],
   "source": [
    "#vault read identity/oidc/token/role-001\n",
    "printf \"${GREEN}Set client id and token.${NC}\\n\"\n",
    "TOKEN_DATA=$(vault read -format=json identity/oidc/token/role-ops)\n",
    "echo $TOKEN_DATA | jq -r .data\n",
    "CLIENT_ID=$(echo $TOKEN_DATA | jq -r .data.client_id)\n",
    "ID_TOKEN=$(echo $TOKEN_DATA | jq -r .data.token)"
   ]
  },
  {
   "cell_type": "markdown",
   "id": "c74aea53-69b9-4b36-a0a7-b07d09c39a99",
   "metadata": {},
   "source": [
    "You can now use this token to identify to a service !"
   ]
  },
  {
   "cell_type": "markdown",
   "id": "8d9deba0-2c16-475c-a123-e844b6117a4c",
   "metadata": {},
   "source": [
    "## Sign in as the App user"
   ]
  },
  {
   "cell_type": "code",
   "execution_count": null,
   "id": "340fb845-0d64-4bb0-808e-ec3b6063e4c2",
   "metadata": {},
   "outputs": [],
   "source": [
    "export VAULT_TOKEN=$(vault login -format=json -method=userpass username=app-1 password=app-1 \\\n",
    "| jq -r .auth.client_token)\n",
    "\n",
    "printf \"${YELLOW}DEBUG - View VAULT_TOKEN.${NC}\\n\"\n",
    "echo $VAULT_TOKEN"
   ]
  },
  {
   "cell_type": "markdown",
   "id": "e04192f7-247e-4f92-bca0-6ac072e19ed2",
   "metadata": {},
   "source": [
    "You are now logged into Vault as the `app` user!\n",
    "\n",
    "Confirm your policies and namespace:"
   ]
  },
  {
   "cell_type": "code",
   "execution_count": null,
   "id": "c57cef49-d07d-4061-ad68-41869a68e200",
   "metadata": {},
   "outputs": [],
   "source": [
    "vault token lookup"
   ]
  },
  {
   "cell_type": "markdown",
   "id": "b696e11f-1284-483d-bdfe-1869e1141385",
   "metadata": {},
   "source": [
    "## Get the key id from the JWT\n",
    "\n",
    "Let’s unpack the token a bit using the [debugger](https://jwt.io/#debugger) or `jwt` cli tool."
   ]
  },
  {
   "cell_type": "markdown",
   "id": "547afd19-0ba9-4c38-8476-dfa3927ea6aa",
   "metadata": {},
   "source": [
    "### optional - install jwt cli tool"
   ]
  },
  {
   "cell_type": "code",
   "execution_count": null,
   "id": "8c853d38-88f5-44f6-a504-b754686ac286",
   "metadata": {},
   "outputs": [],
   "source": [
    "#optional\n",
    "# brew tap mike-engel/jwt-cli                    \n",
    "# brew install jwt-cli"
   ]
  },
  {
   "cell_type": "markdown",
   "id": "d6e7b83f-7411-4923-b8af-0a169934cefa",
   "metadata": {},
   "source": [
    "### jwt decode"
   ]
  },
  {
   "cell_type": "code",
   "execution_count": null,
   "id": "116d437e-92f0-4b55-b1e2-f252a5d73d2e",
   "metadata": {},
   "outputs": [],
   "source": [
    "echo $TOKEN_DATA | jq -r .data.token | jwt decode -"
   ]
  },
  {
   "cell_type": "markdown",
   "id": "b5194a4f-9882-4647-a3f4-39a69d8a4c67",
   "metadata": {},
   "source": [
    "The \"**header**\" specifies the signature algorithm (`alg`) used and the key id (`kid`) used to sign the token. We will look at this `kid` value in the Well Known keys section.\n",
    "\n",
    "```\n",
    "Token header\n",
    "------------\u001b(B\n",
    "{\n",
    "  \"alg\": \"RS256\",\n",
    "  \"kid\": \"64d94750-6ccc-cf98-e26a-455d57f42b14\"\n",
    "}\n",
    "```\n",
    "\n",
    "The \"**body**\" of the token reads the following:\n",
    "\n",
    "```\n",
    "Token claims\n",
    "------------\u001b(B\n",
    "{\n",
    "  \"aud\": \"gp6ydLvnWZuxPGXYQt673q5XmX\",\n",
    "  \"entity_id\": \"dcde86df-8c01-1dfb-2289-70e63e2c72a6\",\n",
    "  \"entity_name\": \"entity_bbe2033e\",\n",
    "  \"exp\": 1622889270,\n",
    "  \"iat\": 1622846070,\n",
    "  \"iss\": \"http://localhost:8200/v1/identity/oidc\",\n",
    "  \"namespace\": \"root\",\n",
    "  \"sub\": \"dcde86df-8c01-1dfb-2289-70e63e2c72a6\"\n",
    "}\n",
    "```\n",
    "\n",
    "Here you have a bunch of information about the identity of the token bearer:\n",
    "\n",
    "* `exp` is the expiration time of the token\n",
    "* `iat` is the issuance time\n",
    "* `iss` is the issuer\n",
    "* `aud` is the intended audience of the token, namely the `demo` OIDC role you created above\n",
    "* `sub` is the `subject` of the token, namely the identity of the bearer. **NOTE**: This is the same UUID as the one referenced in the `entity_id` field of the `vault token lookup` command.\n",
    "\n",
    "**NOTE: You can now identify who’s token you are looking at!**\n",
    "\n",
    "You can also add more custom fields, such as group membership and other arbitrary things. More info on that [here](https://www.vaultproject.io/docs/secrets/identity/index.html#token-contents-and-templates)."
   ]
  },
  {
   "cell_type": "markdown",
   "id": "385d6703-ef83-412f-bb03-2b0986a03776",
   "metadata": {
    "tags": []
   },
   "source": [
    "## Verify the token\n",
    "\n",
    "Now you need to be able to verify the tokens.\n",
    "\n",
    "You need to be able to verify the signature of the token to establish that the token:\n",
    "\n",
    "* Comes from whom it says it comes from\n",
    "* Is signed by a key owned by whom it says it comes from\n",
    "\n",
    "Vault exposes an unauthenticated endpoint that allows you to retrieve the public part of the signing keys used for the tokens, which you can access the following way"
   ]
  },
  {
   "cell_type": "code",
   "execution_count": null,
   "id": "8c54eaf0-e993-4d79-86c6-ac5bb1f89811",
   "metadata": {
    "tags": []
   },
   "outputs": [],
   "source": [
    "printf \"${GREEN}Create verify.json payload for introspection/validation${NC}\\n\"\n",
    "cat <<EOF > config/vault/verify.json\n",
    "{\n",
    "    \"token\": \"${ID_TOKEN}\"\n",
    "}\n",
    "EOF\n",
    "cat config/vault/verify.json"
   ]
  },
  {
   "cell_type": "markdown",
   "id": "48bebbbd-cd2b-4351-9494-b1a156a0bfba",
   "metadata": {},
   "source": [
    "The ID_TOKEN was set previously when we created the token. "
   ]
  },
  {
   "cell_type": "code",
   "execution_count": null,
   "id": "595e5cbe-fb42-495a-9ea0-f5b45df1e1dd",
   "metadata": {},
   "outputs": [],
   "source": [
    "printf \"${GREEN}Verify the authenticity and active state of the signed ID token.${NC}\\n\"\n",
    "curl \\\n",
    "    --header \"X-Vault-Token: $VAULT_TOKEN\" \\\n",
    "    --header \"X-Vault-Namespace: admin/dev\" \\\n",
    "    --request POST \\\n",
    "    --data @config/vault/verify.json \\\n",
    "    http://127.0.0.1:8200/v1/identity/oidc/introspect"
   ]
  },
  {
   "cell_type": "markdown",
   "id": "dc356501-4b7c-44b2-9539-9df8ea4c6098",
   "metadata": {},
   "source": [
    "You should see\n",
    "\n",
    "``{\"active\":true}``"
   ]
  },
  {
   "cell_type": "markdown",
   "id": "271adc12-64da-4015-b07b-bcdb8157ab51",
   "metadata": {},
   "source": [
    "### Show the Well Known config\n",
    "\n",
    "Read the Well Known config to retrieve a set of claims about the identity tokens' configuration. This response is a compliant OpenID Provider configuration response."
   ]
  },
  {
   "cell_type": "code",
   "execution_count": null,
   "id": "e2a0396e-880d-4752-9efb-ca44199a5652",
   "metadata": {},
   "outputs": [],
   "source": [
    "curl -s \\\n",
    "    --header \"X-Vault-Namespace: admin/dev\" \\\n",
    "    --request GET \\\n",
    "    http://127.0.0.1:8200/v1/identity/oidc/.well-known/openid-configuration | jq -r ."
   ]
  },
  {
   "cell_type": "markdown",
   "id": "00af3757-5346-4088-82ee-4c25d363e8cc",
   "metadata": {},
   "source": [
    "### Show the Well Known keys\n",
    "\n",
    "This is the public portion of the named keys. Clients can use this to validate the authenticity of an identity token"
   ]
  },
  {
   "cell_type": "code",
   "execution_count": null,
   "id": "481f11a8-3cfc-48a4-9577-eb6c397885c7",
   "metadata": {
    "tags": []
   },
   "outputs": [],
   "source": [
    "curl -s \\\n",
    "    --header \"X-Vault-Namespace: admin/dev\" \\\n",
    "    --request GET \\\n",
    "    http://127.0.0.1:8200/v1/identity/oidc/.well-known/keys | jq -r .keys"
   ]
  },
  {
   "cell_type": "markdown",
   "id": "2e11027b-3004-4859-bffe-53c9a139be01",
   "metadata": {},
   "source": [
    "If you pay attention and fluently speak UUID, you will notice that `962cbe97-f3ca-15c3-042d-61e431c194e0` is the `kid` present in the header of the token we have previously issued.\n",
    "\n",
    "This way you can verify that the signature is valid. Note that Vault implements the [openID discovery protocol](https://swagger.io/docs/specification/authentication/openid-connect-discovery/) which can give you access to even more information."
   ]
  },
  {
   "cell_type": "markdown",
   "id": "f4877c8f-acc1-4257-b0a3-264946c99a19",
   "metadata": {},
   "source": [
    "## Rotate a Named Key\n",
    "\n",
    "Rotate a named key."
   ]
  },
  {
   "cell_type": "markdown",
   "id": "dc28aa20-64e3-4dd3-ac4f-654ece26add8",
   "metadata": {},
   "source": [
    "Negative Testing"
   ]
  },
  {
   "cell_type": "code",
   "execution_count": null,
   "id": "5985decd-02b5-4210-9f74-6d2ce63d2f08",
   "metadata": {
    "tags": []
   },
   "outputs": [],
   "source": [
    "printf \"${RED}This should fail.${NC}\\n\"\n",
    "# export VAULT_TOKEN=root\n",
    "#vault write -f -format=json identity/oidc/key/role-002/rotate\n",
    "vault write -f -format=json identity/oidc/key/named-key-app-1/rotate"
   ]
  },
  {
   "cell_type": "code",
   "execution_count": null,
   "id": "c9df1cf3-9554-42f4-9e99-7759c1aa2494",
   "metadata": {},
   "outputs": [],
   "source": [
    "printf \"${YELLOW}Sign in as ops user and set VAULT_TOKEN.${NC}\\n\"\n",
    "token=$(vault login -format=json -method=userpass username=ops-1 password=ops-1 | jq -r .auth.client_token)\n",
    "export VAULT_TOKEN=$token"
   ]
  },
  {
   "cell_type": "markdown",
   "id": "3b8fdbe6-2017-4da2-a890-5e35cdd6c471",
   "metadata": {},
   "source": [
    "Positive Testing"
   ]
  },
  {
   "cell_type": "code",
   "execution_count": null,
   "id": "5c751949-5cab-440f-bc41-27ca965c7653",
   "metadata": {
    "tags": []
   },
   "outputs": [],
   "source": [
    "printf \"${YELLOW}Show current Well Known Keys - Before Rotation.${NC}\\n\"\n",
    "well_known_keys=$(curl -s -H \"X-Vault-Namespace: admin/dev\" -X GET \\\n",
    "    http://127.0.0.1:8200/v1/identity/oidc/.well-known/keys | jq -r .keys[].kid)\n",
    "echo \"$well_known_keys\"\n",
    "printf \"${YELLOW}Number of keys:${NC} $(echo $well_known_keys | wc -w)\""
   ]
  },
  {
   "cell_type": "code",
   "execution_count": null,
   "id": "14caf133-e572-4fb3-8aef-c61b6f816b6f",
   "metadata": {},
   "outputs": [],
   "source": [
    "printf \"${GREEN}This should now work.${NC}\\n\"\n",
    "# export VAULT_TOKEN=root\n",
    "#vault write -f -format=json identity/oidc/key/role-002/rotate\n",
    "vault write -f -format=json identity/oidc/key/named-key-app-1/rotate"
   ]
  },
  {
   "cell_type": "code",
   "execution_count": null,
   "id": "8e40ddd4-ee3e-451d-a044-2cae616ada41",
   "metadata": {
    "tags": []
   },
   "outputs": [],
   "source": [
    "printf \"${YELLOW}Show current Well Known Keys - After Rotation.${NC}\\n\"\n",
    "well_known_keys=$(curl -s -H \"X-Vault-Namespace: admin/dev\" -X GET \\\n",
    "    http://127.0.0.1:8200/v1/identity/oidc/.well-known/keys | jq -r .keys[].kid)\n",
    "echo \"$well_known_keys\"\n",
    "printf \"${YELLOW}Number of keys:${NC} $(echo $well_known_keys | wc -w)\""
   ]
  },
  {
   "cell_type": "markdown",
   "id": "a6744bf8-5763-4d81-8242-8cb1c81a4566",
   "metadata": {},
   "source": [
    "There should be one more key than above.\n",
    "\n",
    "NOTE: The reason you see multiple keys is due to the auto-rotation. We set a rotation period of 10 minutes and a verification_ttl of 30 minutes. After 30 minutes, you will see at least 3 keys for each named key."
   ]
  },
  {
   "cell_type": "markdown",
   "id": "f9e11c8e-5956-4e03-b8be-2b84cd301d81",
   "metadata": {},
   "source": [
    "## Delete a Named Key"
   ]
  },
  {
   "cell_type": "code",
   "execution_count": null,
   "id": "519098a7-fc62-412e-a136-efc1e9acc303",
   "metadata": {},
   "outputs": [],
   "source": [
    "# Delete an identity key\n",
    "VAULT_TOKEN=root vault delete identity/oidc/key/named-key-app-1"
   ]
  },
  {
   "cell_type": "code",
   "execution_count": null,
   "id": "be036362-ee7f-4573-8727-b4a6a77210fd",
   "metadata": {},
   "outputs": [],
   "source": [
    "# Delete an identity role and then the key.\n",
    "VAULT_TOKEN=root vault delete identity/oidc/role/role-app\n",
    "VAULT_TOKEN=root vault delete identity/oidc/key/named-key-app-1"
   ]
  },
  {
   "cell_type": "markdown",
   "id": "284e4933-fc46-4e0e-91ca-1a4c19ddbc05",
   "metadata": {},
   "source": [
    "You have completed this lab. Please proceed to Cleanup if necessary."
   ]
  },
  {
   "cell_type": "markdown",
   "id": "ce9ca982-cce1-4a1d-ba8b-ea0e676e4a9d",
   "metadata": {},
   "source": [
    "## Cleanup"
   ]
  },
  {
   "cell_type": "markdown",
   "id": "e17f48e9-d0ea-435c-a2c4-0b6e1d1a8292",
   "metadata": {},
   "source": [
    "### Delete admin/dev namespace"
   ]
  },
  {
   "cell_type": "code",
   "execution_count": null,
   "id": "2a6326cb-4614-40a9-b8d8-ffe35b3bbcbb",
   "metadata": {},
   "outputs": [],
   "source": [
    "export VAULT_TOKEN=root\n",
    "VAULT_NAMESPACE=admin vault namespace delete dev"
   ]
  },
  {
   "cell_type": "markdown",
   "id": "5c079536-8d7a-481c-a1b4-ae996fd7f0d3",
   "metadata": {},
   "source": [
    "### Shutdown Docker"
   ]
  },
  {
   "cell_type": "code",
   "execution_count": null,
   "id": "604d107c-8c92-4622-be67-07628e077231",
   "metadata": {},
   "outputs": [],
   "source": [
    "docker stop vault\n",
    "\n",
    "# Remove the container - not needed since --rm was used\n",
    "# docker rm vault"
   ]
  },
  {
   "cell_type": "markdown",
   "id": "53c5ca6b-926a-411f-bbef-f6e3dcbe4de1",
   "metadata": {},
   "source": [
    "## END"
   ]
  }
 ],
 "metadata": {
  "kernelspec": {
   "display_name": "Bash",
   "language": "bash",
   "name": "bash"
  },
  "language_info": {
   "codemirror_mode": "shell",
   "file_extension": ".sh",
   "mimetype": "text/x-sh",
   "name": "bash"
  }
 },
 "nbformat": 4,
 "nbformat_minor": 5
}
